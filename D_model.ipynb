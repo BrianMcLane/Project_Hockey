{
 "cells": [
  {
   "cell_type": "code",
   "execution_count": 1,
   "id": "9bc210a0",
   "metadata": {},
   "outputs": [],
   "source": [
    "import pandas as pd\n",
    "import numpy as np\n",
    "import matplotlib.pyplot as plt\n",
    "import numpy as np\n",
    "import sklearn"
   ]
  },
  {
   "cell_type": "code",
   "execution_count": 2,
   "id": "dbc560fa",
   "metadata": {},
   "outputs": [],
   "source": [
    "data = \"data_for_machine.csv\""
   ]
  },
  {
   "cell_type": "code",
   "execution_count": 3,
   "id": "6289bfcf",
   "metadata": {},
   "outputs": [],
   "source": [
    "data_df = pd.read_csv(data, encoding=\"utf-8\")"
   ]
  },
  {
   "cell_type": "code",
   "execution_count": 4,
   "id": "4198b385",
   "metadata": {},
   "outputs": [
    {
     "data": {
      "text/plain": [
       "Index(['Unnamed: 0', 'decision', 'Game_ID', 'Team_ID', 'Goals_C',\n",
       "       'timeonIce_C', 'powerPlayGoals_C', 'powerPlayAssists_C',\n",
       "       'powerPlayTimeOnIce_C', 'shortHandedGoals_C', 'shortHandedAssists_C',\n",
       "       'shortHandedTimeOnIce_C', 'penaltyMinutes_C', 'Goals_D', 'timeonIce_D',\n",
       "       'powerPlayGoals_D', 'powerPlayAssists_D', 'powerPlayTimeOnIce_D',\n",
       "       'shortHandedGoals_D', 'shortHandedAssists_D', 'shortHandedTimeOnIce_D',\n",
       "       'penaltyMinutes_D', 'Goals_RW', 'timeonIce_RW', 'powerPlayGoals_RW',\n",
       "       'powerPlayAssists_RW', 'powerPlayTimeOnIce_RW', 'shortHandedGoals_RW',\n",
       "       'shortHandedAssists_RW', 'shortHandedTimeOnIce_RW', 'penaltyMinutes_RW',\n",
       "       'Goals_LW', 'timeonIce_LW', 'powerPlayGoals_LW', 'powerPlayAssists_LW',\n",
       "       'powerPlayTimeOnIce_LW', 'shortHandedGoals_LW', 'shortHandedAssists_LW',\n",
       "       'shortHandedTimeOnIce_LW', 'penaltyMinutes_LW'],\n",
       "      dtype='object')"
      ]
     },
     "execution_count": 4,
     "metadata": {},
     "output_type": "execute_result"
    }
   ],
   "source": [
    "data_df.columns"
   ]
  },
  {
   "cell_type": "code",
   "execution_count": 5,
   "id": "0ca8846d",
   "metadata": {},
   "outputs": [],
   "source": [
    "only_D = data_df[[\"decision\", \"Team_ID\",'timeonIce_D',\n",
    "       'powerPlayGoals_D', 'powerPlayAssists_D', 'powerPlayTimeOnIce_D',\n",
    "       'shortHandedGoals_D', 'shortHandedAssists_D', 'shortHandedTimeOnIce_D',\n",
    "       'penaltyMinutes_D', ]]"
   ]
  },
  {
   "cell_type": "code",
   "execution_count": 6,
   "id": "2dc3fb27",
   "metadata": {},
   "outputs": [
    {
     "data": {
      "text/html": [
       "<div>\n",
       "<style scoped>\n",
       "    .dataframe tbody tr th:only-of-type {\n",
       "        vertical-align: middle;\n",
       "    }\n",
       "\n",
       "    .dataframe tbody tr th {\n",
       "        vertical-align: top;\n",
       "    }\n",
       "\n",
       "    .dataframe thead th {\n",
       "        text-align: right;\n",
       "    }\n",
       "</style>\n",
       "<table border=\"1\" class=\"dataframe\">\n",
       "  <thead>\n",
       "    <tr style=\"text-align: right;\">\n",
       "      <th></th>\n",
       "      <th>decision</th>\n",
       "      <th>Team_ID</th>\n",
       "      <th>timeonIce_D</th>\n",
       "      <th>powerPlayGoals_D</th>\n",
       "      <th>powerPlayAssists_D</th>\n",
       "      <th>powerPlayTimeOnIce_D</th>\n",
       "      <th>shortHandedGoals_D</th>\n",
       "      <th>shortHandedAssists_D</th>\n",
       "      <th>shortHandedTimeOnIce_D</th>\n",
       "      <th>penaltyMinutes_D</th>\n",
       "    </tr>\n",
       "  </thead>\n",
       "  <tbody>\n",
       "    <tr>\n",
       "      <th>0</th>\n",
       "      <td>1</td>\n",
       "      <td>21</td>\n",
       "      <td>7221</td>\n",
       "      <td>0</td>\n",
       "      <td>0</td>\n",
       "      <td>1347</td>\n",
       "      <td>0</td>\n",
       "      <td>0</td>\n",
       "      <td>1490</td>\n",
       "      <td>6</td>\n",
       "    </tr>\n",
       "    <tr>\n",
       "      <th>1</th>\n",
       "      <td>-1</td>\n",
       "      <td>25</td>\n",
       "      <td>7807</td>\n",
       "      <td>0</td>\n",
       "      <td>1</td>\n",
       "      <td>1516</td>\n",
       "      <td>0</td>\n",
       "      <td>0</td>\n",
       "      <td>1841</td>\n",
       "      <td>12</td>\n",
       "    </tr>\n",
       "    <tr>\n",
       "      <th>2</th>\n",
       "      <td>1</td>\n",
       "      <td>6</td>\n",
       "      <td>7174</td>\n",
       "      <td>0</td>\n",
       "      <td>2</td>\n",
       "      <td>1081</td>\n",
       "      <td>0</td>\n",
       "      <td>0</td>\n",
       "      <td>1060</td>\n",
       "      <td>4</td>\n",
       "    </tr>\n",
       "    <tr>\n",
       "      <th>3</th>\n",
       "      <td>-1</td>\n",
       "      <td>9</td>\n",
       "      <td>7843</td>\n",
       "      <td>1</td>\n",
       "      <td>0</td>\n",
       "      <td>1060</td>\n",
       "      <td>0</td>\n",
       "      <td>0</td>\n",
       "      <td>1696</td>\n",
       "      <td>12</td>\n",
       "    </tr>\n",
       "    <tr>\n",
       "      <th>4</th>\n",
       "      <td>1</td>\n",
       "      <td>7</td>\n",
       "      <td>7206</td>\n",
       "      <td>0</td>\n",
       "      <td>0</td>\n",
       "      <td>840</td>\n",
       "      <td>0</td>\n",
       "      <td>0</td>\n",
       "      <td>1522</td>\n",
       "      <td>4</td>\n",
       "    </tr>\n",
       "    <tr>\n",
       "      <th>...</th>\n",
       "      <td>...</td>\n",
       "      <td>...</td>\n",
       "      <td>...</td>\n",
       "      <td>...</td>\n",
       "      <td>...</td>\n",
       "      <td>...</td>\n",
       "      <td>...</td>\n",
       "      <td>...</td>\n",
       "      <td>...</td>\n",
       "      <td>...</td>\n",
       "    </tr>\n",
       "    <tr>\n",
       "      <th>46913</th>\n",
       "      <td>-1</td>\n",
       "      <td>25</td>\n",
       "      <td>7651</td>\n",
       "      <td>0</td>\n",
       "      <td>0</td>\n",
       "      <td>367</td>\n",
       "      <td>0</td>\n",
       "      <td>0</td>\n",
       "      <td>628</td>\n",
       "      <td>4</td>\n",
       "    </tr>\n",
       "    <tr>\n",
       "      <th>46914</th>\n",
       "      <td>-1</td>\n",
       "      <td>14</td>\n",
       "      <td>10616</td>\n",
       "      <td>0</td>\n",
       "      <td>0</td>\n",
       "      <td>128</td>\n",
       "      <td>0</td>\n",
       "      <td>0</td>\n",
       "      <td>480</td>\n",
       "      <td>2</td>\n",
       "    </tr>\n",
       "    <tr>\n",
       "      <th>46915</th>\n",
       "      <td>1</td>\n",
       "      <td>25</td>\n",
       "      <td>10594</td>\n",
       "      <td>0</td>\n",
       "      <td>0</td>\n",
       "      <td>360</td>\n",
       "      <td>0</td>\n",
       "      <td>0</td>\n",
       "      <td>240</td>\n",
       "      <td>0</td>\n",
       "    </tr>\n",
       "    <tr>\n",
       "      <th>46916</th>\n",
       "      <td>1</td>\n",
       "      <td>14</td>\n",
       "      <td>7044</td>\n",
       "      <td>0</td>\n",
       "      <td>1</td>\n",
       "      <td>272</td>\n",
       "      <td>0</td>\n",
       "      <td>0</td>\n",
       "      <td>640</td>\n",
       "      <td>6</td>\n",
       "    </tr>\n",
       "    <tr>\n",
       "      <th>46917</th>\n",
       "      <td>-1</td>\n",
       "      <td>25</td>\n",
       "      <td>6889</td>\n",
       "      <td>0</td>\n",
       "      <td>0</td>\n",
       "      <td>335</td>\n",
       "      <td>0</td>\n",
       "      <td>0</td>\n",
       "      <td>450</td>\n",
       "      <td>2</td>\n",
       "    </tr>\n",
       "  </tbody>\n",
       "</table>\n",
       "<p>46918 rows × 10 columns</p>\n",
       "</div>"
      ],
      "text/plain": [
       "       decision  Team_ID  timeonIce_D  powerPlayGoals_D  powerPlayAssists_D  \\\n",
       "0             1       21         7221                 0                   0   \n",
       "1            -1       25         7807                 0                   1   \n",
       "2             1        6         7174                 0                   2   \n",
       "3            -1        9         7843                 1                   0   \n",
       "4             1        7         7206                 0                   0   \n",
       "...         ...      ...          ...               ...                 ...   \n",
       "46913        -1       25         7651                 0                   0   \n",
       "46914        -1       14        10616                 0                   0   \n",
       "46915         1       25        10594                 0                   0   \n",
       "46916         1       14         7044                 0                   1   \n",
       "46917        -1       25         6889                 0                   0   \n",
       "\n",
       "       powerPlayTimeOnIce_D  shortHandedGoals_D  shortHandedAssists_D  \\\n",
       "0                      1347                   0                     0   \n",
       "1                      1516                   0                     0   \n",
       "2                      1081                   0                     0   \n",
       "3                      1060                   0                     0   \n",
       "4                       840                   0                     0   \n",
       "...                     ...                 ...                   ...   \n",
       "46913                   367                   0                     0   \n",
       "46914                   128                   0                     0   \n",
       "46915                   360                   0                     0   \n",
       "46916                   272                   0                     0   \n",
       "46917                   335                   0                     0   \n",
       "\n",
       "       shortHandedTimeOnIce_D  penaltyMinutes_D  \n",
       "0                        1490                 6  \n",
       "1                        1841                12  \n",
       "2                        1060                 4  \n",
       "3                        1696                12  \n",
       "4                        1522                 4  \n",
       "...                       ...               ...  \n",
       "46913                     628                 4  \n",
       "46914                     480                 2  \n",
       "46915                     240                 0  \n",
       "46916                     640                 6  \n",
       "46917                     450                 2  \n",
       "\n",
       "[46918 rows x 10 columns]"
      ]
     },
     "execution_count": 6,
     "metadata": {},
     "output_type": "execute_result"
    }
   ],
   "source": [
    "only_D"
   ]
  },
  {
   "cell_type": "code",
   "execution_count": 7,
   "id": "c6c71c17",
   "metadata": {},
   "outputs": [],
   "source": [
    "X = only_D[[\"Team_ID\",'powerPlayGoals_D', 'powerPlayAssists_D', 'powerPlayTimeOnIce_D',\n",
    "       'shortHandedGoals_D', 'shortHandedAssists_D', 'shortHandedTimeOnIce_D',\n",
    "       'penaltyMinutes_D', ]]\n",
    "y = only_D[\"decision\"].values.reshape(-1, 1)"
   ]
  },
  {
   "cell_type": "code",
   "execution_count": 8,
   "id": "97bf1cbd",
   "metadata": {},
   "outputs": [],
   "source": [
    "from sklearn.model_selection import train_test_split\n",
    "\n",
    "X_train, X_test, y_train, y_test = train_test_split(X, y, random_state=1)"
   ]
  },
  {
   "cell_type": "code",
   "execution_count": 9,
   "id": "2b2fe348",
   "metadata": {},
   "outputs": [],
   "source": [
    "from tensorflow.keras.utils import to_categorical\n",
    "y_train_categorical = to_categorical(y_train)\n",
    "y_test_categorical = to_categorical(y_test)"
   ]
  },
  {
   "cell_type": "code",
   "execution_count": 10,
   "id": "b6a76744",
   "metadata": {},
   "outputs": [],
   "source": [
    "from tensorflow.keras.models import Sequential\n",
    "from tensorflow.keras.layers import Dense\n",
    "\n",
    "model = Sequential()\n",
    "model.add(Dense(units=6, activation='relu', input_dim=8))\n",
    "model.add(Dense(units=2, activation='softmax'))"
   ]
  },
  {
   "cell_type": "code",
   "execution_count": 11,
   "id": "99726048",
   "metadata": {},
   "outputs": [
    {
     "name": "stdout",
     "output_type": "stream",
     "text": [
      "Model: \"sequential\"\n",
      "_________________________________________________________________\n",
      "Layer (type)                 Output Shape              Param #   \n",
      "=================================================================\n",
      "dense (Dense)                (None, 6)                 54        \n",
      "_________________________________________________________________\n",
      "dense_1 (Dense)              (None, 2)                 14        \n",
      "=================================================================\n",
      "Total params: 68\n",
      "Trainable params: 68\n",
      "Non-trainable params: 0\n",
      "_________________________________________________________________\n"
     ]
    }
   ],
   "source": [
    "model.summary()"
   ]
  },
  {
   "cell_type": "code",
   "execution_count": 12,
   "id": "fc062964",
   "metadata": {},
   "outputs": [],
   "source": [
    "model.compile(optimizer='adam',\n",
    "              loss='categorical_crossentropy',\n",
    "              metrics=['accuracy'])"
   ]
  },
  {
   "cell_type": "code",
   "execution_count": 13,
   "id": "977581c1",
   "metadata": {},
   "outputs": [
    {
     "name": "stdout",
     "output_type": "stream",
     "text": [
      "1100/1100 - 1s - loss: 2.0468 - accuracy: 0.9773\n"
     ]
    },
    {
     "data": {
      "text/plain": [
       "<tensorflow.python.keras.callbacks.History at 0x13d599fa490>"
      ]
     },
     "execution_count": 13,
     "metadata": {},
     "output_type": "execute_result"
    }
   ],
   "source": [
    "model.fit(\n",
    "    X_train,\n",
    "    y_train_categorical,\n",
    "    epochs=1,\n",
    "    shuffle=True,\n",
    "    verbose=2\n",
    ")"
   ]
  },
  {
   "cell_type": "code",
   "execution_count": null,
   "id": "e5f35066",
   "metadata": {},
   "outputs": [],
   "source": []
  }
 ],
 "metadata": {
  "kernelspec": {
   "display_name": "Python 3",
   "language": "python",
   "name": "python3"
  },
  "language_info": {
   "codemirror_mode": {
    "name": "ipython",
    "version": 3
   },
   "file_extension": ".py",
   "mimetype": "text/x-python",
   "name": "python",
   "nbconvert_exporter": "python",
   "pygments_lexer": "ipython3",
   "version": "3.8.8"
  }
 },
 "nbformat": 4,
 "nbformat_minor": 5
}
