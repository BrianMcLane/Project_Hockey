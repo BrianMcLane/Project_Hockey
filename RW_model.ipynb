{
 "cells": [
  {
   "cell_type": "code",
   "execution_count": 1,
   "id": "c8ef409c",
   "metadata": {},
   "outputs": [],
   "source": [
    "import pandas as pd\n",
    "import numpy as np\n",
    "import matplotlib.pyplot as plt\n",
    "import numpy as np\n",
    "import sklearn"
   ]
  },
  {
   "cell_type": "code",
   "execution_count": 2,
   "id": "bdaf4722",
   "metadata": {},
   "outputs": [],
   "source": [
    "data = \"data_for_machine.csv\""
   ]
  },
  {
   "cell_type": "code",
   "execution_count": 3,
   "id": "2da5d8f9",
   "metadata": {},
   "outputs": [],
   "source": [
    "data_df = pd.read_csv(data, encoding=\"utf-8\")"
   ]
  },
  {
   "cell_type": "code",
   "execution_count": 4,
   "id": "7109ffca",
   "metadata": {},
   "outputs": [
    {
     "data": {
      "text/plain": [
       "Index(['Unnamed: 0', 'decision', 'Game_ID', 'Team_ID', 'Goals_C',\n",
       "       'timeonIce_C', 'powerPlayGoals_C', 'powerPlayAssists_C',\n",
       "       'powerPlayTimeOnIce_C', 'shortHandedGoals_C', 'shortHandedAssists_C',\n",
       "       'shortHandedTimeOnIce_C', 'penaltyMinutes_C', 'Goals_D', 'timeonIce_D',\n",
       "       'powerPlayGoals_D', 'powerPlayAssists_D', 'powerPlayTimeOnIce_D',\n",
       "       'shortHandedGoals_D', 'shortHandedAssists_D', 'shortHandedTimeOnIce_D',\n",
       "       'penaltyMinutes_D', 'Goals_RW', 'timeonIce_RW', 'powerPlayGoals_RW',\n",
       "       'powerPlayAssists_RW', 'powerPlayTimeOnIce_RW', 'shortHandedGoals_RW',\n",
       "       'shortHandedAssists_RW', 'shortHandedTimeOnIce_RW', 'penaltyMinutes_RW',\n",
       "       'Goals_LW', 'timeonIce_LW', 'powerPlayGoals_LW', 'powerPlayAssists_LW',\n",
       "       'powerPlayTimeOnIce_LW', 'shortHandedGoals_LW', 'shortHandedAssists_LW',\n",
       "       'shortHandedTimeOnIce_LW', 'penaltyMinutes_LW'],\n",
       "      dtype='object')"
      ]
     },
     "execution_count": 4,
     "metadata": {},
     "output_type": "execute_result"
    }
   ],
   "source": [
    "data_df.columns"
   ]
  },
  {
   "cell_type": "code",
   "execution_count": 5,
   "id": "0477d419",
   "metadata": {},
   "outputs": [],
   "source": [
    "only_RW = data_df[[\"Team_ID\", \"decision\", 'powerPlayGoals_RW',\n",
    "       'powerPlayAssists_RW', 'powerPlayTimeOnIce_RW', 'shortHandedGoals_RW',\n",
    "       'shortHandedAssists_RW', 'shortHandedTimeOnIce_RW', 'penaltyMinutes_RW' ]]"
   ]
  },
  {
   "cell_type": "code",
   "execution_count": 6,
   "id": "ccc9a9e6",
   "metadata": {},
   "outputs": [],
   "source": [
    "X = only_RW[[\"Team_ID\", 'powerPlayGoals_RW',\n",
    "       'powerPlayAssists_RW', 'powerPlayTimeOnIce_RW', 'shortHandedGoals_RW',\n",
    "       'shortHandedAssists_RW', 'shortHandedTimeOnIce_RW', 'penaltyMinutes_RW']]\n",
    "y = only_RW[\"decision\"].values.reshape(-1, 1)"
   ]
  },
  {
   "cell_type": "code",
   "execution_count": 7,
   "id": "3abf2ec6",
   "metadata": {},
   "outputs": [],
   "source": [
    "from sklearn.model_selection import train_test_split\n",
    "\n",
    "X_train, X_test, y_train, y_test = train_test_split(X, y, random_state=1)"
   ]
  },
  {
   "cell_type": "code",
   "execution_count": 8,
   "id": "5f22f6d6",
   "metadata": {},
   "outputs": [],
   "source": [
    "from tensorflow.keras.utils import to_categorical\n",
    "y_train_categorical = to_categorical(y_train)\n",
    "y_test_categorical = to_categorical(y_test)"
   ]
  },
  {
   "cell_type": "code",
   "execution_count": 9,
   "id": "746291ed",
   "metadata": {},
   "outputs": [],
   "source": [
    "from tensorflow.keras.models import Sequential\n",
    "from tensorflow.keras.layers import Dense\n",
    "\n",
    "model = Sequential()\n",
    "model.add(Dense(units=6, activation='relu', input_dim=2))\n",
    "model.add(Dense(units=2, activation='softmax'))"
   ]
  },
  {
   "cell_type": "code",
   "execution_count": 10,
   "id": "5a56ba7e",
   "metadata": {},
   "outputs": [
    {
     "name": "stdout",
     "output_type": "stream",
     "text": [
      "Model: \"sequential\"\n",
      "_________________________________________________________________\n",
      "Layer (type)                 Output Shape              Param #   \n",
      "=================================================================\n",
      "dense (Dense)                (None, 6)                 18        \n",
      "_________________________________________________________________\n",
      "dense_1 (Dense)              (None, 2)                 14        \n",
      "=================================================================\n",
      "Total params: 32\n",
      "Trainable params: 32\n",
      "Non-trainable params: 0\n",
      "_________________________________________________________________\n"
     ]
    }
   ],
   "source": [
    "model.summary()"
   ]
  },
  {
   "cell_type": "code",
   "execution_count": 11,
   "id": "9ec5b6c1",
   "metadata": {},
   "outputs": [],
   "source": [
    "model.compile(optimizer='adam',\n",
    "              loss='categorical_crossentropy',\n",
    "              metrics=['accuracy'])"
   ]
  },
  {
   "cell_type": "code",
   "execution_count": 12,
   "id": "ba346d45",
   "metadata": {},
   "outputs": [
    {
     "name": "stdout",
     "output_type": "stream",
     "text": [
      "Epoch 1/3\n",
      "1100/1100 - 1s - loss: 0.1554 - accuracy: 0.9912\n",
      "Epoch 2/3\n",
      "1100/1100 - 0s - loss: 0.0042 - accuracy: 1.0000\n",
      "Epoch 3/3\n",
      "1100/1100 - 0s - loss: 0.0010 - accuracy: 1.0000\n"
     ]
    },
    {
     "data": {
      "text/plain": [
       "<tensorflow.python.keras.callbacks.History at 0x1db77556550>"
      ]
     },
     "execution_count": 12,
     "metadata": {},
     "output_type": "execute_result"
    }
   ],
   "source": [
    "model.fit(\n",
    "    X_train,\n",
    "    y_train_categorical,\n",
    "    epochs=3,\n",
    "    shuffle=True,\n",
    "    verbose=2\n",
    ")"
   ]
  }
 ],
 "metadata": {
  "kernelspec": {
   "display_name": "Python 3",
   "language": "python",
   "name": "python3"
  },
  "language_info": {
   "codemirror_mode": {
    "name": "ipython",
    "version": 3
   },
   "file_extension": ".py",
   "mimetype": "text/x-python",
   "name": "python",
   "nbconvert_exporter": "python",
   "pygments_lexer": "ipython3",
   "version": "3.8.8"
  }
 },
 "nbformat": 4,
 "nbformat_minor": 5
}
