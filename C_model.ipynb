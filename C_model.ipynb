{
 "cells": [
  {
   "cell_type": "code",
   "execution_count": 1,
   "id": "37664f7a",
   "metadata": {},
   "outputs": [],
   "source": [
    "import pandas as pd\n",
    "import numpy as np\n",
    "import matplotlib.pyplot as plt\n",
    "import numpy as np\n",
    "import sklearn"
   ]
  },
  {
   "cell_type": "code",
   "execution_count": 2,
   "id": "c4ee9620",
   "metadata": {},
   "outputs": [],
   "source": [
    "data = \"data_for_machine.csv\""
   ]
  },
  {
   "cell_type": "code",
   "execution_count": 3,
   "id": "3c21f330",
   "metadata": {},
   "outputs": [],
   "source": [
    "data_df = pd.read_csv(data, encoding=\"utf-8\")"
   ]
  },
  {
   "cell_type": "code",
   "execution_count": 4,
   "id": "26030987",
   "metadata": {},
   "outputs": [
    {
     "data": {
      "text/plain": [
       "Index(['Unnamed: 0', 'decision', 'Game_ID', 'Team_ID', 'Goals_C',\n",
       "       'timeonIce_C', 'powerPlayGoals_C', 'powerPlayAssists_C',\n",
       "       'powerPlayTimeOnIce_C', 'shortHandedGoals_C', 'shortHandedAssists_C',\n",
       "       'shortHandedTimeOnIce_C', 'penaltyMinutes_C', 'Goals_D', 'timeonIce_D',\n",
       "       'powerPlayGoals_D', 'powerPlayAssists_D', 'powerPlayTimeOnIce_D',\n",
       "       'shortHandedGoals_D', 'shortHandedAssists_D', 'shortHandedTimeOnIce_D',\n",
       "       'penaltyMinutes_D', 'Goals_RW', 'timeonIce_RW', 'powerPlayGoals_RW',\n",
       "       'powerPlayAssists_RW', 'powerPlayTimeOnIce_RW', 'shortHandedGoals_RW',\n",
       "       'shortHandedAssists_RW', 'shortHandedTimeOnIce_RW', 'penaltyMinutes_RW',\n",
       "       'Goals_LW', 'timeonIce_LW', 'powerPlayGoals_LW', 'powerPlayAssists_LW',\n",
       "       'powerPlayTimeOnIce_LW', 'shortHandedGoals_LW', 'shortHandedAssists_LW',\n",
       "       'shortHandedTimeOnIce_LW', 'penaltyMinutes_LW'],\n",
       "      dtype='object')"
      ]
     },
     "execution_count": 4,
     "metadata": {},
     "output_type": "execute_result"
    }
   ],
   "source": [
    "data_df.columns"
   ]
  },
  {
   "cell_type": "code",
   "execution_count": 5,
   "id": "21a936d7",
   "metadata": {},
   "outputs": [],
   "source": [
    "only_C = data_df[[\"decision\", \"Team_ID\",'timeonIce_C', 'powerPlayGoals_C', 'powerPlayAssists_C',\n",
    "       'powerPlayTimeOnIce_C', 'shortHandedGoals_C', 'shortHandedAssists_C',\n",
    "       'shortHandedTimeOnIce_C', 'penaltyMinutes_C']]"
   ]
  },
  {
   "cell_type": "code",
   "execution_count": 6,
   "id": "fab8a8e8",
   "metadata": {},
   "outputs": [
    {
     "data": {
      "text/html": [
       "<div>\n",
       "<style scoped>\n",
       "    .dataframe tbody tr th:only-of-type {\n",
       "        vertical-align: middle;\n",
       "    }\n",
       "\n",
       "    .dataframe tbody tr th {\n",
       "        vertical-align: top;\n",
       "    }\n",
       "\n",
       "    .dataframe thead th {\n",
       "        text-align: right;\n",
       "    }\n",
       "</style>\n",
       "<table border=\"1\" class=\"dataframe\">\n",
       "  <thead>\n",
       "    <tr style=\"text-align: right;\">\n",
       "      <th></th>\n",
       "      <th>decision</th>\n",
       "      <th>Team_ID</th>\n",
       "      <th>timeonIce_C</th>\n",
       "      <th>powerPlayGoals_C</th>\n",
       "      <th>powerPlayAssists_C</th>\n",
       "      <th>powerPlayTimeOnIce_C</th>\n",
       "      <th>shortHandedGoals_C</th>\n",
       "      <th>shortHandedAssists_C</th>\n",
       "      <th>shortHandedTimeOnIce_C</th>\n",
       "      <th>penaltyMinutes_C</th>\n",
       "    </tr>\n",
       "  </thead>\n",
       "  <tbody>\n",
       "    <tr>\n",
       "      <th>0</th>\n",
       "      <td>1</td>\n",
       "      <td>21</td>\n",
       "      <td>5677</td>\n",
       "      <td>0</td>\n",
       "      <td>2</td>\n",
       "      <td>2128</td>\n",
       "      <td>0</td>\n",
       "      <td>0</td>\n",
       "      <td>819</td>\n",
       "      <td>10</td>\n",
       "    </tr>\n",
       "    <tr>\n",
       "      <th>1</th>\n",
       "      <td>-1</td>\n",
       "      <td>25</td>\n",
       "      <td>2661</td>\n",
       "      <td>1</td>\n",
       "      <td>0</td>\n",
       "      <td>844</td>\n",
       "      <td>0</td>\n",
       "      <td>0</td>\n",
       "      <td>498</td>\n",
       "      <td>0</td>\n",
       "    </tr>\n",
       "    <tr>\n",
       "      <th>2</th>\n",
       "      <td>1</td>\n",
       "      <td>6</td>\n",
       "      <td>4490</td>\n",
       "      <td>0</td>\n",
       "      <td>1</td>\n",
       "      <td>1449</td>\n",
       "      <td>0</td>\n",
       "      <td>0</td>\n",
       "      <td>398</td>\n",
       "      <td>2</td>\n",
       "    </tr>\n",
       "    <tr>\n",
       "      <th>3</th>\n",
       "      <td>-1</td>\n",
       "      <td>9</td>\n",
       "      <td>2839</td>\n",
       "      <td>0</td>\n",
       "      <td>2</td>\n",
       "      <td>530</td>\n",
       "      <td>0</td>\n",
       "      <td>0</td>\n",
       "      <td>479</td>\n",
       "      <td>2</td>\n",
       "    </tr>\n",
       "    <tr>\n",
       "      <th>4</th>\n",
       "      <td>1</td>\n",
       "      <td>7</td>\n",
       "      <td>4679</td>\n",
       "      <td>0</td>\n",
       "      <td>0</td>\n",
       "      <td>641</td>\n",
       "      <td>0</td>\n",
       "      <td>0</td>\n",
       "      <td>720</td>\n",
       "      <td>4</td>\n",
       "    </tr>\n",
       "    <tr>\n",
       "      <th>...</th>\n",
       "      <td>...</td>\n",
       "      <td>...</td>\n",
       "      <td>...</td>\n",
       "      <td>...</td>\n",
       "      <td>...</td>\n",
       "      <td>...</td>\n",
       "      <td>...</td>\n",
       "      <td>...</td>\n",
       "      <td>...</td>\n",
       "      <td>...</td>\n",
       "    </tr>\n",
       "    <tr>\n",
       "      <th>46913</th>\n",
       "      <td>-1</td>\n",
       "      <td>25</td>\n",
       "      <td>5002</td>\n",
       "      <td>0</td>\n",
       "      <td>0</td>\n",
       "      <td>591</td>\n",
       "      <td>0</td>\n",
       "      <td>0</td>\n",
       "      <td>468</td>\n",
       "      <td>0</td>\n",
       "    </tr>\n",
       "    <tr>\n",
       "      <th>46914</th>\n",
       "      <td>-1</td>\n",
       "      <td>14</td>\n",
       "      <td>8751</td>\n",
       "      <td>0</td>\n",
       "      <td>0</td>\n",
       "      <td>128</td>\n",
       "      <td>0</td>\n",
       "      <td>0</td>\n",
       "      <td>240</td>\n",
       "      <td>2</td>\n",
       "    </tr>\n",
       "    <tr>\n",
       "      <th>46915</th>\n",
       "      <td>1</td>\n",
       "      <td>25</td>\n",
       "      <td>7178</td>\n",
       "      <td>0</td>\n",
       "      <td>0</td>\n",
       "      <td>364</td>\n",
       "      <td>0</td>\n",
       "      <td>0</td>\n",
       "      <td>203</td>\n",
       "      <td>2</td>\n",
       "    </tr>\n",
       "    <tr>\n",
       "      <th>46916</th>\n",
       "      <td>1</td>\n",
       "      <td>14</td>\n",
       "      <td>5252</td>\n",
       "      <td>1</td>\n",
       "      <td>0</td>\n",
       "      <td>266</td>\n",
       "      <td>0</td>\n",
       "      <td>0</td>\n",
       "      <td>334</td>\n",
       "      <td>0</td>\n",
       "    </tr>\n",
       "    <tr>\n",
       "      <th>46917</th>\n",
       "      <td>-1</td>\n",
       "      <td>25</td>\n",
       "      <td>5100</td>\n",
       "      <td>0</td>\n",
       "      <td>0</td>\n",
       "      <td>564</td>\n",
       "      <td>0</td>\n",
       "      <td>0</td>\n",
       "      <td>356</td>\n",
       "      <td>0</td>\n",
       "    </tr>\n",
       "  </tbody>\n",
       "</table>\n",
       "<p>46918 rows × 10 columns</p>\n",
       "</div>"
      ],
      "text/plain": [
       "       decision  Team_ID  timeonIce_C  powerPlayGoals_C  powerPlayAssists_C  \\\n",
       "0             1       21         5677                 0                   2   \n",
       "1            -1       25         2661                 1                   0   \n",
       "2             1        6         4490                 0                   1   \n",
       "3            -1        9         2839                 0                   2   \n",
       "4             1        7         4679                 0                   0   \n",
       "...         ...      ...          ...               ...                 ...   \n",
       "46913        -1       25         5002                 0                   0   \n",
       "46914        -1       14         8751                 0                   0   \n",
       "46915         1       25         7178                 0                   0   \n",
       "46916         1       14         5252                 1                   0   \n",
       "46917        -1       25         5100                 0                   0   \n",
       "\n",
       "       powerPlayTimeOnIce_C  shortHandedGoals_C  shortHandedAssists_C  \\\n",
       "0                      2128                   0                     0   \n",
       "1                       844                   0                     0   \n",
       "2                      1449                   0                     0   \n",
       "3                       530                   0                     0   \n",
       "4                       641                   0                     0   \n",
       "...                     ...                 ...                   ...   \n",
       "46913                   591                   0                     0   \n",
       "46914                   128                   0                     0   \n",
       "46915                   364                   0                     0   \n",
       "46916                   266                   0                     0   \n",
       "46917                   564                   0                     0   \n",
       "\n",
       "       shortHandedTimeOnIce_C  penaltyMinutes_C  \n",
       "0                         819                10  \n",
       "1                         498                 0  \n",
       "2                         398                 2  \n",
       "3                         479                 2  \n",
       "4                         720                 4  \n",
       "...                       ...               ...  \n",
       "46913                     468                 0  \n",
       "46914                     240                 2  \n",
       "46915                     203                 2  \n",
       "46916                     334                 0  \n",
       "46917                     356                 0  \n",
       "\n",
       "[46918 rows x 10 columns]"
      ]
     },
     "execution_count": 6,
     "metadata": {},
     "output_type": "execute_result"
    }
   ],
   "source": [
    "only_C"
   ]
  },
  {
   "cell_type": "code",
   "execution_count": 7,
   "id": "eb892ba4",
   "metadata": {},
   "outputs": [],
   "source": [
    "X = only_C[[\"Team_ID\", 'powerPlayGoals_C', 'powerPlayAssists_C',\n",
    "       'powerPlayTimeOnIce_C', 'shortHandedGoals_C', 'shortHandedAssists_C',\n",
    "       'shortHandedTimeOnIce_C', 'penaltyMinutes_C']]\n",
    "y = only_C[\"decision\"].values.reshape(-1, 1)"
   ]
  },
  {
   "cell_type": "code",
   "execution_count": 8,
   "id": "65b5edcb",
   "metadata": {},
   "outputs": [],
   "source": [
    "from sklearn.model_selection import train_test_split\n",
    "\n",
    "X_train, X_test, y_train, y_test = train_test_split(X, y, random_state=1)"
   ]
  },
  {
   "cell_type": "code",
   "execution_count": 9,
   "id": "e9927d58",
   "metadata": {},
   "outputs": [],
   "source": [
    "from tensorflow.keras.utils import to_categorical\n",
    "y_train_categorical = to_categorical(y_train)\n",
    "y_test_categorical = to_categorical(y_test)"
   ]
  },
  {
   "cell_type": "code",
   "execution_count": 10,
   "id": "fecac13a",
   "metadata": {},
   "outputs": [],
   "source": [
    "from tensorflow.keras.models import Sequential\n",
    "from tensorflow.keras.layers import Dense\n",
    "\n",
    "model = Sequential()\n",
    "model.add(Dense(units=6, activation='relu', input_dim=8))\n",
    "model.add(Dense(units=2, activation='softmax'))"
   ]
  },
  {
   "cell_type": "code",
   "execution_count": 11,
   "id": "5a7c0604",
   "metadata": {},
   "outputs": [
    {
     "name": "stdout",
     "output_type": "stream",
     "text": [
      "Model: \"sequential\"\n",
      "_________________________________________________________________\n",
      "Layer (type)                 Output Shape              Param #   \n",
      "=================================================================\n",
      "dense (Dense)                (None, 6)                 54        \n",
      "_________________________________________________________________\n",
      "dense_1 (Dense)              (None, 2)                 14        \n",
      "=================================================================\n",
      "Total params: 68\n",
      "Trainable params: 68\n",
      "Non-trainable params: 0\n",
      "_________________________________________________________________\n"
     ]
    }
   ],
   "source": [
    "model.summary()"
   ]
  },
  {
   "cell_type": "code",
   "execution_count": 12,
   "id": "6259f984",
   "metadata": {},
   "outputs": [],
   "source": [
    "model.compile(optimizer='adam',\n",
    "              loss='categorical_crossentropy',\n",
    "              metrics=['accuracy'])"
   ]
  },
  {
   "cell_type": "code",
   "execution_count": 13,
   "id": "66c78ca1",
   "metadata": {},
   "outputs": [
    {
     "name": "stdout",
     "output_type": "stream",
     "text": [
      "Epoch 1/3\n",
      "1100/1100 - 0s - loss: 1.2876e-04 - accuracy: 1.0000\n",
      "Epoch 2/3\n",
      "1100/1100 - 0s - loss: 5.1237e-05 - accuracy: 1.0000\n",
      "Epoch 3/3\n",
      "1100/1100 - 0s - loss: 2.7720e-05 - accuracy: 1.0000\n"
     ]
    },
    {
     "data": {
      "text/plain": [
       "<tensorflow.python.keras.callbacks.History at 0x158276b9490>"
      ]
     },
     "execution_count": 13,
     "metadata": {},
     "output_type": "execute_result"
    }
   ],
   "source": [
    "model.fit(\n",
    "    X_train,\n",
    "    y_train_categorical,\n",
    "    epochs=3,\n",
    "    shuffle=True,\n",
    "    verbose=2\n",
    ")"
   ]
  },
  {
   "cell_type": "code",
   "execution_count": 14,
   "id": "da506387",
   "metadata": {},
   "outputs": [
    {
     "name": "stdout",
     "output_type": "stream",
     "text": [
      "367/367 - 0s - loss: 1.8841e-05 - accuracy: 1.0000\n"
     ]
    },
    {
     "data": {
      "text/plain": [
       "[1.884148150566034e-05, 1.0]"
      ]
     },
     "execution_count": 14,
     "metadata": {},
     "output_type": "execute_result"
    }
   ],
   "source": [
    "model.evaluate(X_test, y_test_categorical, verbose=2)"
   ]
  },
  {
   "cell_type": "code",
   "execution_count": null,
   "id": "237df72e",
   "metadata": {},
   "outputs": [],
   "source": []
  }
 ],
 "metadata": {
  "kernelspec": {
   "display_name": "Python 3",
   "language": "python",
   "name": "python3"
  },
  "language_info": {
   "codemirror_mode": {
    "name": "ipython",
    "version": 3
   },
   "file_extension": ".py",
   "mimetype": "text/x-python",
   "name": "python",
   "nbconvert_exporter": "python",
   "pygments_lexer": "ipython3",
   "version": "3.8.8"
  }
 },
 "nbformat": 4,
 "nbformat_minor": 5
}
