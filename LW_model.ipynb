{
 "cells": [
  {
   "cell_type": "code",
   "execution_count": 1,
   "id": "6bee22b5",
   "metadata": {},
   "outputs": [],
   "source": [
    "import pandas as pd\n",
    "import numpy as np\n",
    "import matplotlib.pyplot as plt\n",
    "import numpy as np\n",
    "import sklearn"
   ]
  },
  {
   "cell_type": "code",
   "execution_count": 2,
   "id": "e8b7b13e",
   "metadata": {},
   "outputs": [],
   "source": [
    "data = \"data_for_machine.csv\""
   ]
  },
  {
   "cell_type": "code",
   "execution_count": 3,
   "id": "7e6d0627",
   "metadata": {},
   "outputs": [],
   "source": [
    "data_df = pd.read_csv(data, encoding=\"utf-8\")"
   ]
  },
  {
   "cell_type": "code",
   "execution_count": 4,
   "id": "87af242c",
   "metadata": {},
   "outputs": [
    {
     "data": {
      "text/plain": [
       "Index(['Unnamed: 0', 'decision', 'Game_ID', 'Team_ID', 'Goals_C',\n",
       "       'timeonIce_C', 'powerPlayGoals_C', 'powerPlayAssists_C',\n",
       "       'powerPlayTimeOnIce_C', 'shortHandedGoals_C', 'shortHandedAssists_C',\n",
       "       'shortHandedTimeOnIce_C', 'penaltyMinutes_C', 'Goals_D', 'timeonIce_D',\n",
       "       'powerPlayGoals_D', 'powerPlayAssists_D', 'powerPlayTimeOnIce_D',\n",
       "       'shortHandedGoals_D', 'shortHandedAssists_D', 'shortHandedTimeOnIce_D',\n",
       "       'penaltyMinutes_D', 'Goals_RW', 'timeonIce_RW', 'powerPlayGoals_RW',\n",
       "       'powerPlayAssists_RW', 'powerPlayTimeOnIce_RW', 'shortHandedGoals_RW',\n",
       "       'shortHandedAssists_RW', 'shortHandedTimeOnIce_RW', 'penaltyMinutes_RW',\n",
       "       'Goals_LW', 'timeonIce_LW', 'powerPlayGoals_LW', 'powerPlayAssists_LW',\n",
       "       'powerPlayTimeOnIce_LW', 'shortHandedGoals_LW', 'shortHandedAssists_LW',\n",
       "       'shortHandedTimeOnIce_LW', 'penaltyMinutes_LW'],\n",
       "      dtype='object')"
      ]
     },
     "execution_count": 4,
     "metadata": {},
     "output_type": "execute_result"
    }
   ],
   "source": [
    "data_df.columns"
   ]
  },
  {
   "cell_type": "code",
   "execution_count": 10,
   "id": "44c80dad",
   "metadata": {},
   "outputs": [],
   "source": [
    "only_LW = data_df[[\"Team_ID\", \"decision\", 'timeonIce_LW', 'powerPlayGoals_LW', 'powerPlayAssists_LW',\n",
    "       'powerPlayTimeOnIce_LW', 'shortHandedGoals_LW', 'shortHandedAssists_LW',\n",
    "       'shortHandedTimeOnIce_LW', 'penaltyMinutes_LW' ]]"
   ]
  },
  {
   "cell_type": "code",
   "execution_count": 11,
   "id": "2154dd0f",
   "metadata": {},
   "outputs": [
    {
     "data": {
      "text/html": [
       "<div>\n",
       "<style scoped>\n",
       "    .dataframe tbody tr th:only-of-type {\n",
       "        vertical-align: middle;\n",
       "    }\n",
       "\n",
       "    .dataframe tbody tr th {\n",
       "        vertical-align: top;\n",
       "    }\n",
       "\n",
       "    .dataframe thead th {\n",
       "        text-align: right;\n",
       "    }\n",
       "</style>\n",
       "<table border=\"1\" class=\"dataframe\">\n",
       "  <thead>\n",
       "    <tr style=\"text-align: right;\">\n",
       "      <th></th>\n",
       "      <th>Team_ID</th>\n",
       "      <th>decision</th>\n",
       "      <th>timeonIce_LW</th>\n",
       "      <th>powerPlayGoals_LW</th>\n",
       "      <th>powerPlayAssists_LW</th>\n",
       "      <th>powerPlayTimeOnIce_LW</th>\n",
       "      <th>shortHandedGoals_LW</th>\n",
       "      <th>shortHandedAssists_LW</th>\n",
       "      <th>shortHandedTimeOnIce_LW</th>\n",
       "      <th>penaltyMinutes_LW</th>\n",
       "    </tr>\n",
       "  </thead>\n",
       "  <tbody>\n",
       "    <tr>\n",
       "      <th>0</th>\n",
       "      <td>21</td>\n",
       "      <td>1</td>\n",
       "      <td>2364</td>\n",
       "      <td>0</td>\n",
       "      <td>0</td>\n",
       "      <td>309</td>\n",
       "      <td>0</td>\n",
       "      <td>0</td>\n",
       "      <td>569</td>\n",
       "      <td>2</td>\n",
       "    </tr>\n",
       "    <tr>\n",
       "      <th>1</th>\n",
       "      <td>25</td>\n",
       "      <td>-1</td>\n",
       "      <td>2173</td>\n",
       "      <td>0</td>\n",
       "      <td>0</td>\n",
       "      <td>412</td>\n",
       "      <td>0</td>\n",
       "      <td>0</td>\n",
       "      <td>242</td>\n",
       "      <td>2</td>\n",
       "    </tr>\n",
       "    <tr>\n",
       "      <th>2</th>\n",
       "      <td>6</td>\n",
       "      <td>1</td>\n",
       "      <td>3276</td>\n",
       "      <td>0</td>\n",
       "      <td>0</td>\n",
       "      <td>491</td>\n",
       "      <td>0</td>\n",
       "      <td>0</td>\n",
       "      <td>281</td>\n",
       "      <td>2</td>\n",
       "    </tr>\n",
       "    <tr>\n",
       "      <th>3</th>\n",
       "      <td>9</td>\n",
       "      <td>-1</td>\n",
       "      <td>4048</td>\n",
       "      <td>0</td>\n",
       "      <td>1</td>\n",
       "      <td>480</td>\n",
       "      <td>0</td>\n",
       "      <td>0</td>\n",
       "      <td>578</td>\n",
       "      <td>0</td>\n",
       "    </tr>\n",
       "    <tr>\n",
       "      <th>4</th>\n",
       "      <td>7</td>\n",
       "      <td>1</td>\n",
       "      <td>1104</td>\n",
       "      <td>0</td>\n",
       "      <td>0</td>\n",
       "      <td>194</td>\n",
       "      <td>0</td>\n",
       "      <td>0</td>\n",
       "      <td>168</td>\n",
       "      <td>2</td>\n",
       "    </tr>\n",
       "    <tr>\n",
       "      <th>...</th>\n",
       "      <td>...</td>\n",
       "      <td>...</td>\n",
       "      <td>...</td>\n",
       "      <td>...</td>\n",
       "      <td>...</td>\n",
       "      <td>...</td>\n",
       "      <td>...</td>\n",
       "      <td>...</td>\n",
       "      <td>...</td>\n",
       "      <td>...</td>\n",
       "    </tr>\n",
       "    <tr>\n",
       "      <th>46913</th>\n",
       "      <td>25</td>\n",
       "      <td>-1</td>\n",
       "      <td>3253</td>\n",
       "      <td>0</td>\n",
       "      <td>0</td>\n",
       "      <td>302</td>\n",
       "      <td>0</td>\n",
       "      <td>0</td>\n",
       "      <td>160</td>\n",
       "      <td>4</td>\n",
       "    </tr>\n",
       "    <tr>\n",
       "      <th>46914</th>\n",
       "      <td>14</td>\n",
       "      <td>-1</td>\n",
       "      <td>3983</td>\n",
       "      <td>0</td>\n",
       "      <td>0</td>\n",
       "      <td>224</td>\n",
       "      <td>0</td>\n",
       "      <td>0</td>\n",
       "      <td>73</td>\n",
       "      <td>0</td>\n",
       "    </tr>\n",
       "    <tr>\n",
       "      <th>46915</th>\n",
       "      <td>25</td>\n",
       "      <td>1</td>\n",
       "      <td>3879</td>\n",
       "      <td>0</td>\n",
       "      <td>0</td>\n",
       "      <td>93</td>\n",
       "      <td>0</td>\n",
       "      <td>0</td>\n",
       "      <td>37</td>\n",
       "      <td>0</td>\n",
       "    </tr>\n",
       "    <tr>\n",
       "      <th>46916</th>\n",
       "      <td>14</td>\n",
       "      <td>1</td>\n",
       "      <td>2715</td>\n",
       "      <td>0</td>\n",
       "      <td>0</td>\n",
       "      <td>402</td>\n",
       "      <td>0</td>\n",
       "      <td>0</td>\n",
       "      <td>67</td>\n",
       "      <td>0</td>\n",
       "    </tr>\n",
       "    <tr>\n",
       "      <th>46917</th>\n",
       "      <td>25</td>\n",
       "      <td>-1</td>\n",
       "      <td>2551</td>\n",
       "      <td>0</td>\n",
       "      <td>0</td>\n",
       "      <td>305</td>\n",
       "      <td>0</td>\n",
       "      <td>0</td>\n",
       "      <td>94</td>\n",
       "      <td>2</td>\n",
       "    </tr>\n",
       "  </tbody>\n",
       "</table>\n",
       "<p>46918 rows × 10 columns</p>\n",
       "</div>"
      ],
      "text/plain": [
       "       Team_ID  decision  timeonIce_LW  powerPlayGoals_LW  \\\n",
       "0           21         1          2364                  0   \n",
       "1           25        -1          2173                  0   \n",
       "2            6         1          3276                  0   \n",
       "3            9        -1          4048                  0   \n",
       "4            7         1          1104                  0   \n",
       "...        ...       ...           ...                ...   \n",
       "46913       25        -1          3253                  0   \n",
       "46914       14        -1          3983                  0   \n",
       "46915       25         1          3879                  0   \n",
       "46916       14         1          2715                  0   \n",
       "46917       25        -1          2551                  0   \n",
       "\n",
       "       powerPlayAssists_LW  powerPlayTimeOnIce_LW  shortHandedGoals_LW  \\\n",
       "0                        0                    309                    0   \n",
       "1                        0                    412                    0   \n",
       "2                        0                    491                    0   \n",
       "3                        1                    480                    0   \n",
       "4                        0                    194                    0   \n",
       "...                    ...                    ...                  ...   \n",
       "46913                    0                    302                    0   \n",
       "46914                    0                    224                    0   \n",
       "46915                    0                     93                    0   \n",
       "46916                    0                    402                    0   \n",
       "46917                    0                    305                    0   \n",
       "\n",
       "       shortHandedAssists_LW  shortHandedTimeOnIce_LW  penaltyMinutes_LW  \n",
       "0                          0                      569                  2  \n",
       "1                          0                      242                  2  \n",
       "2                          0                      281                  2  \n",
       "3                          0                      578                  0  \n",
       "4                          0                      168                  2  \n",
       "...                      ...                      ...                ...  \n",
       "46913                      0                      160                  4  \n",
       "46914                      0                       73                  0  \n",
       "46915                      0                       37                  0  \n",
       "46916                      0                       67                  0  \n",
       "46917                      0                       94                  2  \n",
       "\n",
       "[46918 rows x 10 columns]"
      ]
     },
     "execution_count": 11,
     "metadata": {},
     "output_type": "execute_result"
    }
   ],
   "source": [
    "only_LW"
   ]
  },
  {
   "cell_type": "code",
   "execution_count": 12,
   "id": "992b47a2",
   "metadata": {},
   "outputs": [],
   "source": [
    "X = only_LW[[\"Team_ID\", 'powerPlayGoals_LW', 'powerPlayAssists_LW',\n",
    "       'powerPlayTimeOnIce_LW', 'shortHandedGoals_LW', 'shortHandedAssists_LW',\n",
    "       'shortHandedTimeOnIce_LW', 'penaltyMinutes_LW']]\n",
    "y = only_LW[\"decision\"].values.reshape(-1, 1)"
   ]
  },
  {
   "cell_type": "code",
   "execution_count": 13,
   "id": "ac66aea1",
   "metadata": {},
   "outputs": [],
   "source": [
    "from sklearn.model_selection import train_test_split\n",
    "\n",
    "X_train, X_test, y_train, y_test = train_test_split(X, y, random_state=1)"
   ]
  },
  {
   "cell_type": "code",
   "execution_count": 14,
   "id": "50d1c412",
   "metadata": {},
   "outputs": [],
   "source": [
    "from tensorflow.keras.utils import to_categorical\n",
    "y_train_categorical = to_categorical(y_train)\n",
    "y_test_categorical = to_categorical(y_test)"
   ]
  },
  {
   "cell_type": "code",
   "execution_count": 15,
   "id": "c5372b44",
   "metadata": {},
   "outputs": [],
   "source": [
    "from tensorflow.keras.models import Sequential\n",
    "from tensorflow.keras.layers import Dense\n",
    "\n",
    "model = Sequential()\n",
    "model.add(Dense(units=6, activation='relu', input_dim=8))\n",
    "model.add(Dense(units=2, activation='softmax'))"
   ]
  },
  {
   "cell_type": "code",
   "execution_count": 16,
   "id": "cab28bc8",
   "metadata": {},
   "outputs": [
    {
     "name": "stdout",
     "output_type": "stream",
     "text": [
      "Model: \"sequential\"\n",
      "_________________________________________________________________\n",
      "Layer (type)                 Output Shape              Param #   \n",
      "=================================================================\n",
      "dense (Dense)                (None, 6)                 54        \n",
      "_________________________________________________________________\n",
      "dense_1 (Dense)              (None, 2)                 14        \n",
      "=================================================================\n",
      "Total params: 68\n",
      "Trainable params: 68\n",
      "Non-trainable params: 0\n",
      "_________________________________________________________________\n"
     ]
    }
   ],
   "source": [
    "model.summary()"
   ]
  },
  {
   "cell_type": "code",
   "execution_count": 17,
   "id": "45c6b069",
   "metadata": {},
   "outputs": [],
   "source": [
    "model.compile(optimizer='adam',\n",
    "              loss='categorical_crossentropy',\n",
    "              metrics=['accuracy'])"
   ]
  },
  {
   "cell_type": "code",
   "execution_count": 18,
   "id": "5f4bdd04",
   "metadata": {},
   "outputs": [
    {
     "name": "stdout",
     "output_type": "stream",
     "text": [
      "Epoch 1/3\n",
      "1100/1100 - 1s - loss: 10.2987 - accuracy: 0.9129\n",
      "Epoch 2/3\n",
      "1100/1100 - 1s - loss: 0.0014 - accuracy: 1.0000\n",
      "Epoch 3/3\n",
      "1100/1100 - 1s - loss: 9.3580e-04 - accuracy: 1.0000\n"
     ]
    },
    {
     "data": {
      "text/plain": [
       "<tensorflow.python.keras.callbacks.History at 0x1f4332582b0>"
      ]
     },
     "execution_count": 18,
     "metadata": {},
     "output_type": "execute_result"
    }
   ],
   "source": [
    "model.fit(\n",
    "    X_train,\n",
    "    y_train_categorical,\n",
    "    epochs=3,\n",
    "    shuffle=True,\n",
    "    verbose=2\n",
    ")"
   ]
  },
  {
   "cell_type": "code",
   "execution_count": null,
   "id": "781875ef",
   "metadata": {},
   "outputs": [],
   "source": []
  }
 ],
 "metadata": {
  "kernelspec": {
   "display_name": "Python 3",
   "language": "python",
   "name": "python3"
  },
  "language_info": {
   "codemirror_mode": {
    "name": "ipython",
    "version": 3
   },
   "file_extension": ".py",
   "mimetype": "text/x-python",
   "name": "python",
   "nbconvert_exporter": "python",
   "pygments_lexer": "ipython3",
   "version": "3.8.8"
  }
 },
 "nbformat": 4,
 "nbformat_minor": 5
}
